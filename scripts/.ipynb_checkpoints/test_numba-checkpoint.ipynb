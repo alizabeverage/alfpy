{
 "cells": [
  {
   "cell_type": "code",
   "execution_count": 1,
   "id": "0a111b7d-495b-424c-9a6a-7c2273ce028e",
   "metadata": {},
   "outputs": [],
   "source": [
    "from numba import jit\n",
    "#from tofit_parameters import tofit_params"
   ]
  },
  {
   "cell_type": "code",
   "execution_count": 2,
   "id": "ac98d060-ccfa-4ae1-a346-03184696c2cb",
   "metadata": {},
   "outputs": [],
   "source": [
    "from tofit_parameters import tofit_params\n",
    "tofit_params_keys = list(tofit_params.keys())"
   ]
  },
  {
   "cell_type": "code",
   "execution_count": 39,
   "id": "21d885a8-5758-4637-9539-ac1711f2f71d",
   "metadata": {},
   "outputs": [],
   "source": [
    "def str2arr2(switch, instr=None, inarr=None):\n",
    "    \"\"\"\n",
    "    - 1. str->arr\n",
    "    - 2. arr->str, keys in in arr has to have the same order\n",
    "    \"\"\" \n",
    "    if switch == 1 and instr is not None:\n",
    "        return np.array([getattr(instr, i) for i in instr.__dict__.keys()])\n",
    "\n",
    "    elif switch==2 and inarr is not None:\n",
    "        res_ = alfobj()\n",
    "        for i_, ikey_ in enumerate(tofit_params_keys):\n",
    "            res_.__dict__[ikey_] = inarr[i_]\n",
    "        return res_"
   ]
  },
  {
   "cell_type": "code",
   "execution_count": 3,
   "id": "c7da7b21-f6b7-4406-b1fb-ad6ff36ba906",
   "metadata": {},
   "outputs": [],
   "source": [
    "class alfobj(object):\n",
    "    def __init__(self, inarr=None):\n",
    "        if inarr is None:\n",
    "            for ikey in tofit_params_keys:\n",
    "                self.__dict__[ikey] = tofit_params[ikey].default_val\n",
    "        else:\n",
    "        for i_, ikey_ in enumerate(tofit_params_keys):\n",
    "            res_.__dict__[ikey_] = inarr[i_]            "
   ]
  },
  {
   "cell_type": "code",
   "execution_count": null,
   "id": "2c760dbf-9366-48e6-b8ae-b70615de10c4",
   "metadata": {},
   "outputs": [],
   "source": []
  },
  {
   "cell_type": "code",
   "execution_count": null,
   "id": "4a892268-0c3b-4941-9799-6e3c7d939264",
   "metadata": {},
   "outputs": [],
   "source": []
  },
  {
   "cell_type": "code",
   "execution_count": null,
   "id": "a6c15b5b-b799-40b1-ae18-e1fa4a1a8279",
   "metadata": {},
   "outputs": [],
   "source": []
  },
  {
   "cell_type": "code",
   "execution_count": 43,
   "id": "65280735-b95b-4d20-bbf9-fab797ae166b",
   "metadata": {},
   "outputs": [],
   "source": [
    "tem = str2arr(switch=2, inarr=np.zeros(46))"
   ]
  },
  {
   "cell_type": "code",
   "execution_count": 41,
   "id": "50a2daff-0fe1-489c-bf5b-d11d4fc54e23",
   "metadata": {},
   "outputs": [
    {
     "name": "stdout",
     "output_type": "stream",
     "text": [
      "14.5 µs ± 487 ns per loop (mean ± std. dev. of 7 runs, 100000 loops each)\n"
     ]
    }
   ],
   "source": [
    "%timeit str2arr(switch=2, inarr=np.zeros(46))"
   ]
  },
  {
   "cell_type": "code",
   "execution_count": 40,
   "id": "bd6c72c4-95c2-49c0-a7ca-6f348b231933",
   "metadata": {},
   "outputs": [
    {
     "name": "stdout",
     "output_type": "stream",
     "text": [
      "12.6 µs ± 370 ns per loop (mean ± std. dev. of 7 runs, 100000 loops each)\n"
     ]
    }
   ],
   "source": [
    "%timeit str2arr2(switch=2, inarr=np.zeros(46))"
   ]
  },
  {
   "cell_type": "code",
   "execution_count": 20,
   "id": "fe5ebf42-f1bf-4f6e-977b-c1a238594538",
   "metadata": {},
   "outputs": [],
   "source": [
    "res_ = alfobj()"
   ]
  },
  {
   "cell_type": "code",
   "execution_count": 26,
   "id": "8ec05377-6c3d-43ae-9de6-ec6fe58e928b",
   "metadata": {},
   "outputs": [],
   "source": [
    "res_.__dict__['velz'] = 1.0"
   ]
  },
  {
   "cell_type": "code",
   "execution_count": 29,
   "id": "5d82cdb3-6aa2-4ea9-af04-2327f2a4f33a",
   "metadata": {},
   "outputs": [
    {
     "data": {
      "text/plain": [
       "{'velz': 1.0,\n",
       " 'sigma': 11.0,\n",
       " 'logage': 1.0,\n",
       " 'zh': 0.0,\n",
       " 'feh': 0.0,\n",
       " 'ah': 0.0,\n",
       " 'ch': 0.0,\n",
       " 'nh': 0.0,\n",
       " 'nah': 0.0,\n",
       " 'mgh': 0.0,\n",
       " 'sih': 0.0,\n",
       " 'kh': 0.0,\n",
       " 'cah': 0.0,\n",
       " 'tih': 0.0,\n",
       " 'vh': 0.0,\n",
       " 'crh': 0.0,\n",
       " 'mnh': 0.0,\n",
       " 'coh': 0.0,\n",
       " 'nih': 0.0,\n",
       " 'cuh': 0.0,\n",
       " 'srh': 0.0,\n",
       " 'bah': 0.0,\n",
       " 'euh': 0.0,\n",
       " 'teff': 0.0,\n",
       " 'imf1': 1.3,\n",
       " 'imf2': 2.3,\n",
       " 'logfy': -3.9,\n",
       " 'sigma2': 10.1,\n",
       " 'velz2': 0.0,\n",
       " 'logm7g': -5.5,\n",
       " 'hotteff': 10.1,\n",
       " 'loghot': -3.9,\n",
       " 'fy_logage': -0.3,\n",
       " 'logemline_h': -4.0,\n",
       " 'logemline_oii': -4.0,\n",
       " 'logemline_oiii': -4.0,\n",
       " 'logemline_sii': -4.0,\n",
       " 'logemline_ni': -4.0,\n",
       " 'logemline_nii': -4.0,\n",
       " 'logtrans': -5.9,\n",
       " 'jitter': 1.0,\n",
       " 'logsky': -8.9,\n",
       " 'imf3': 0.08001,\n",
       " 'imf4': 0.0,\n",
       " 'h3': 0.0,\n",
       " 'h4': 0.0}"
      ]
     },
     "execution_count": 29,
     "metadata": {},
     "output_type": "execute_result"
    }
   ],
   "source": [
    "res_.__dict__"
   ]
  },
  {
   "cell_type": "code",
   "execution_count": 16,
   "id": "ea7ce848-03a9-4845-b0b4-2e8df5bc85eb",
   "metadata": {},
   "outputs": [],
   "source": [
    "def fill_param2(inarr, usekeys):\n",
    "    \"\"\"\n",
    "    fill the parameters not included in fitting with default values\n",
    "    \"\"\"\n",
    "    res_ = np.array([tofit_params[ikey].default_val for ikey in tofit_params_keys])\n",
    "    for i_, ikey_ in enumerate(usekeys):\n",
    "        res_[tofit_params_keys.index(ikey_)] = inarr[i_]  \n",
    "    return res_ "
   ]
  },
  {
   "cell_type": "code",
   "execution_count": null,
   "id": "8ae85d5d-4f4a-4c60-888b-8f6375e7c8b7",
   "metadata": {},
   "outputs": [],
   "source": [
    "res_"
   ]
  },
  {
   "cell_type": "code",
   "execution_count": 17,
   "id": "3b58bf68-8bc8-475d-b9f5-f965d50d5b02",
   "metadata": {},
   "outputs": [
    {
     "name": "stdout",
     "output_type": "stream",
     "text": [
      "12.2 µs ± 1.09 µs per loop (mean ± std. dev. of 7 runs, 100000 loops each)\n"
     ]
    }
   ],
   "source": [
    "%timeit fill_param(np.array([1.,]), ['velz',])"
   ]
  },
  {
   "cell_type": "code",
   "execution_count": 18,
   "id": "eb2fe449-423b-45a5-91a0-28e3c8581a35",
   "metadata": {},
   "outputs": [
    {
     "name": "stdout",
     "output_type": "stream",
     "text": [
      "8.07 µs ± 771 ns per loop (mean ± std. dev. of 7 runs, 100000 loops each)\n"
     ]
    }
   ],
   "source": [
    "%timeit fill_param2(np.array([1.,]), ['velz',])"
   ]
  },
  {
   "cell_type": "code",
   "execution_count": 9,
   "id": "ff31d9ed-08ac-4ebf-bc8c-02257f7cea10",
   "metadata": {},
   "outputs": [],
   "source": [
    "from str2arr import fill_param\n",
    "import cProfile"
   ]
  },
  {
   "cell_type": "code",
   "execution_count": 10,
   "id": "5a992bcd-3320-410a-b324-06e230f721df",
   "metadata": {},
   "outputs": [
    {
     "name": "stdout",
     "output_type": "stream",
     "text": [
      "         9 function calls in 0.000 seconds\n",
      "\n",
      "   Ordered by: standard name\n",
      "\n",
      "   ncalls  tottime  percall  cumtime  percall filename:lineno(function)\n",
      "        1    0.000    0.000    0.000    0.000 <string>:1(<module>)\n",
      "        1    0.000    0.000    0.000    0.000 str2arr.py:75(fill_param)\n",
      "        1    0.000    0.000    0.000    0.000 str2arr.py:79(<listcomp>)\n",
      "        1    0.000    0.000    0.000    0.000 {built-in method builtins.exec}\n",
      "        1    0.000    0.000    0.000    0.000 {built-in method builtins.len}\n",
      "        2    0.000    0.000    0.000    0.000 {built-in method numpy.array}\n",
      "        1    0.000    0.000    0.000    0.000 {method 'disable' of '_lsprof.Profiler' objects}\n",
      "        1    0.000    0.000    0.000    0.000 {method 'index' of 'list' objects}\n",
      "\n",
      "\n"
     ]
    }
   ],
   "source": [
    "cProfile.run(\"fill_param(np.array([1.,]), ['velz',])\")"
   ]
  },
  {
   "cell_type": "code",
   "execution_count": 16,
   "id": "80b9c525-8609-418d-a62e-d4f7838948e3",
   "metadata": {},
   "outputs": [],
   "source": [
    "import numpy as np\n",
    "from numba import boolean, float32    # import the types\n",
    "from numba.experimental import jitclass\n",
    "\n",
    "tofit_param_field = [\n",
    "    ('fit', boolean),               # a simple scalar field\n",
    "    ('default_val', float32),          # an array field\n",
    "]"
   ]
  },
  {
   "cell_type": "code",
   "execution_count": 17,
   "id": "d60e1375-3b9c-4472-80c1-a18bbcdf9a01",
   "metadata": {},
   "outputs": [],
   "source": [
    "@jitclass(tofit_param_field )\n",
    "class tofit_param(object):\n",
    "    def __init__(self, fit, defval):\n",
    "        self.fit = fit\n",
    "        self.default_val = defval"
   ]
  },
  {
   "cell_type": "code",
   "execution_count": 18,
   "id": "c524fda5-706c-4d53-8fb0-61ec6ae9f471",
   "metadata": {},
   "outputs": [],
   "source": [
    "tofit_params = Dict.empty(\n",
    "    key_type=types.unicode_type,\n",
    "    value_type=types.float64[:],\n",
    ")\n",
    "\n",
    "\n",
    "{\n",
    "    'velz':  tofit_param(True, 0.0),\n",
    "    'sigma': tofit_param(True, 11.0),     \n",
    "    'logage': tofit_param(True, 1.0), \n",
    "    'zh': tofit_param(True, 0.0), \n",
    "    'feh': tofit_param(True, 0.0), \n",
    "    'ah': tofit_param(True, 0.0), \n",
    "    'ch': tofit_param(True, 0.0), \n",
    "    'nh': tofit_param(True, 0.0), \n",
    "    'nah': tofit_param(True, 0.0), \n",
    "    'mgh': tofit_param(True, 0.0), \n",
    "    'sih': tofit_param(True, 0.0), \n",
    "    'kh': tofit_param(True, 0.0), \n",
    "    'cah': tofit_param(True, 0.0), \n",
    "    'tih': tofit_param(True, 0.0), \n",
    "    'vh': tofit_param(True, 0.0), \n",
    "    'crh': tofit_param(True, 0.0), \n",
    "    'mnh': tofit_param(True, 0.0), \n",
    "    'coh': tofit_param(True, 0.0), \n",
    "    'nih': tofit_param(True, 0.0), \n",
    "    'cuh': tofit_param(True, 0.0), \n",
    "    'srh': tofit_param(True, 0.0), \n",
    "    'bah': tofit_param(True, 0.0), \n",
    "    'euh': tofit_param(True, 0.0), \n",
    "    'teff': tofit_param(False, 0.0), \n",
    "    'imf1': tofit_param(True, 1.3), \n",
    "    'imf2': tofit_param(True, 2.3), \n",
    "    'logfy': tofit_param(True, -3.9), \n",
    "    'sigma2': tofit_param(True, 10.1), \n",
    "    'velz2': tofit_param(True, 0.0), \n",
    "    'logm7g': tofit_param(False, -5.5), \n",
    "    'hotteff': tofit_param(True, 10.1), \n",
    "    'loghot': tofit_param(True, -3.9), \n",
    "    'fy_logage': tofit_param(True, -0.30), \n",
    "    'logemline_h': tofit_param(True, -4.0), \n",
    "    'logemline_oii': tofit_param(True, -4.0), \n",
    "    'logemline_oiii': tofit_param(True, -4.0), \n",
    "    'logemline_sii': tofit_param(True, -4.0), \n",
    "    'logemline_ni': tofit_param(True, -4.0), \n",
    "    'logemline_nii': tofit_param(True, -4.0), \n",
    "    'logtrans':  tofit_param(False, -5.9), \n",
    "    'jitter': tofit_param(True, 1.0), \n",
    "    'logsky': tofit_param(False, -8.9), \n",
    "    'imf3': tofit_param(True, 0.08001),   \n",
    "    'imf4': tofit_param(False, 0.0),\n",
    "    'h3': tofit_param(False, 0.0),   \n",
    "    'h4': tofit_param(False, 0.0),\n",
    "}"
   ]
  },
  {
   "cell_type": "code",
   "execution_count": 9,
   "id": "e918f1d6-6084-4e95-8500-f52d04f6020f",
   "metadata": {},
   "outputs": [
    {
     "data": {
      "text/plain": [
       "['velz',\n",
       " 'sigma',\n",
       " 'logage',\n",
       " 'zh',\n",
       " 'feh',\n",
       " 'ah',\n",
       " 'ch',\n",
       " 'nh',\n",
       " 'nah',\n",
       " 'mgh',\n",
       " 'sih',\n",
       " 'kh',\n",
       " 'cah',\n",
       " 'tih',\n",
       " 'vh',\n",
       " 'crh',\n",
       " 'mnh',\n",
       " 'coh',\n",
       " 'nih',\n",
       " 'cuh',\n",
       " 'srh',\n",
       " 'bah',\n",
       " 'euh',\n",
       " 'teff',\n",
       " 'imf1',\n",
       " 'imf2',\n",
       " 'logfy',\n",
       " 'sigma2',\n",
       " 'velz2',\n",
       " 'logm7g',\n",
       " 'hotteff',\n",
       " 'loghot',\n",
       " 'fy_logage',\n",
       " 'logemline_h',\n",
       " 'logemline_oii',\n",
       " 'logemline_oiii',\n",
       " 'logemline_sii',\n",
       " 'logemline_ni',\n",
       " 'logemline_nii',\n",
       " 'logtrans',\n",
       " 'jitter',\n",
       " 'logsky',\n",
       " 'imf3',\n",
       " 'imf4',\n",
       " 'h3',\n",
       " 'h4']"
      ]
     },
     "execution_count": 9,
     "metadata": {},
     "output_type": "execute_result"
    }
   ],
   "source": [
    "list(tofit_params.keys())"
   ]
  },
  {
   "cell_type": "code",
   "execution_count": null,
   "id": "2e7ca9ad-3067-41d5-8614-e68733280d83",
   "metadata": {},
   "outputs": [],
   "source": []
  }
 ],
 "metadata": {
  "kernelspec": {
   "display_name": "Python 3 (ipykernel)",
   "language": "python",
   "name": "python3"
  },
  "language_info": {
   "codemirror_mode": {
    "name": "ipython",
    "version": 3
   },
   "file_extension": ".py",
   "mimetype": "text/x-python",
   "name": "python",
   "nbconvert_exporter": "python",
   "pygments_lexer": "ipython3",
   "version": "3.7.4"
  }
 },
 "nbformat": 4,
 "nbformat_minor": 5
}
