{
 "cells": [
  {
   "cell_type": "code",
   "execution_count": 1,
   "id": "3acb3f0c-6f1c-4fe5-92bb-253c56d8f456",
   "metadata": {},
   "outputs": [],
   "source": [
    "import jax.numpy as jnp\n",
    "from jax import jit as jjit"
   ]
  },
  {
   "cell_type": "code",
   "execution_count": 2,
   "id": "56e2c0e7-8aa8-47fc-a7fd-a124e4d2d51e",
   "metadata": {},
   "outputs": [],
   "source": [
    "%matplotlib inline\n",
    "import matplotlib.pyplot as plt\n",
    "from astropy.io import ascii as astro_ascii\n",
    "import pickle, scipy, copy, numpy as np, pandas as pd\n",
    "from dynesty import plotting as dyplot\n",
    "import sys, math\n",
    "alfpydir = '../scripts/'\n",
    "sys.path.insert(1, alfpydir)"
   ]
  },
  {
   "cell_type": "code",
   "execution_count": 3,
   "id": "8f2ce451-dbf1-4673-b82f-f0fe3afca609",
   "metadata": {},
   "outputs": [],
   "source": [
    "from str2arr import alfobj\n",
    "alfvar = pickle.load(open('../pickle/alfvar_sspgrid_alff90_test1.p', \"rb\" ))\n",
    "\n",
    "pos = alfobj()\n",
    "pos.sigma = 200\n",
    "pos.zh = -0.2\n",
    "pos.logage = math.log10(8.)\n",
    "pos.imf1 = 1.301\n",
    "pos.imf2 = 2.301\n",
    "pos.imf3 = 0.0801\n",
    "#spec_p = getmodel(pos, alfvar = alfvar)"
   ]
  },
  {
   "cell_type": "markdown",
   "id": "ca6aadf8-608b-4046-acf1-6a91031b510d",
   "metadata": {},
   "source": [
    "### update get_dv"
   ]
  },
  {
   "cell_type": "code",
   "execution_count": 36,
   "id": "b27b71b3-f4bf-4640-b681-5b2b8f06b2bf",
   "metadata": {},
   "outputs": [],
   "source": [
    "def contnormspec(lam, flx, err, il1, il2, coeff=False, return_poly=False, \n",
    "                 npolymax = 10, npow = None):\n",
    "    \"\"\"\n",
    "    !routine to continuum normalize a spectrum by a high-order\n",
    "    !polynomial.  The order of the polynomial is determined by\n",
    "    !n=(lam_max-lam_min)/100.  Only normalized over the input\n",
    "    !min/max wavelength range\n",
    "    #, lam,flx,err,il1,il2,flxout,coeff=None\n",
    "    return: normed spectra\n",
    "    \"\"\"\n",
    "    \n",
    "    poly_dlam = 100.\n",
    "    buff = 0.0\n",
    "    #mask = np.ones(npolymax+1)\n",
    "    #covar = np.empty((npolymax+1, npolymax+1))\n",
    "    \n",
    "    n1 = lam.size\n",
    "    flxout = np.copy(flx)\n",
    "\n",
    "    # ---- !divide by a power-law of degree npow. one degree per poly_dlam.\n",
    "    # ---- !don't let things get out of hand (force Npow<=npolymax)\n",
    "\n",
    "    if npow is None:\n",
    "        npow = min((il2-il1)//poly_dlam, npolymax)\n",
    "    print('npow=',npow)\n",
    "    i1 = min(max(locate(lam, il1-buff),0), n1-2)\n",
    "    i2 = min(max(locate(lam, il2+buff),1), n1-1)+1   \n",
    "    ml = (il1+il2)/2.0\n",
    "    \n",
    "    #!simple linear least squares polynomial fit\n",
    "    ind = np.isfinite(flx[i1:i2])\n",
    "    res = np.polyfit(x = lam[i1:i2][ind]-ml, \n",
    "                     y = flx[i1:i2][ind], \n",
    "                     deg = npow, full = True, \n",
    "                     w = 1./np.square(err[i1:i2][ind]), \n",
    "                     cov = True)\n",
    "    \n",
    "    covar = res[2]\n",
    "    chi2sqr = res[1]\n",
    "    tcoeff = res[0]\n",
    "    \n",
    "    p = np.poly1d(tcoeff)\n",
    "    poly = p(lam-ml)\n",
    "    \n",
    "    if coeff == False and return_poly==False:\n",
    "        return npow\n",
    "    \n",
    "    elif coeff == True and return_poly==False:\n",
    "        return npow, tcoeff    \n",
    "    \n",
    "    elif coeff == True and return_poly==True:\n",
    "        return npow, tcoeff, poly\n"
   ]
  },
  {
   "cell_type": "code",
   "execution_count": 41,
   "id": "6f6b7d8c-8497-43cb-aac7-798342628ce2",
   "metadata": {},
   "outputs": [
    {
     "name": "stdout",
     "output_type": "stream",
     "text": [
      "npow= 10\n"
     ]
    }
   ],
   "source": [
    "res = contnormspec(sspgrid.lam, sspgrid.logssp[:,0,0,0,0], \n",
    "             np.ones(sspgrid.lam.shape), 4400, 5500, coeff = True, return_poly=True)"
   ]
  },
  {
   "cell_type": "code",
   "execution_count": 51,
   "id": "0c042fd4-9a41-46f8-ac40-beda5d110e35",
   "metadata": {},
   "outputs": [
    {
     "data": {
      "text/plain": [
       "(11,)"
      ]
     },
     "execution_count": 51,
     "metadata": {},
     "output_type": "execute_result"
    }
   ],
   "source": [
    "res[1].shape"
   ]
  },
  {
   "cell_type": "code",
   "execution_count": 23,
   "id": "da10de7a-37e7-4697-9eb0-6cdb4404586a",
   "metadata": {},
   "outputs": [
    {
     "name": "stdout",
     "output_type": "stream",
     "text": [
      "317 ns ± 14 ns per loop (mean ± std. dev. of 7 runs, 1000000 loops each)\n"
     ]
    }
   ],
   "source": [
    "%timeit locate(sspgrid.logagegrid, pos.logage)"
   ]
  },
  {
   "cell_type": "code",
   "execution_count": 8,
   "id": "35ea270d-0e84-41fd-841b-74319462206f",
   "metadata": {},
   "outputs": [
    {
     "name": "stderr",
     "output_type": "stream",
     "text": [
      "WARNING:absl:No GPU/TPU found, falling back to CPU. (Set TF_CPP_MIN_LOG_LEVEL=0 and rerun for more info.)\n"
     ]
    }
   ],
   "source": [
    "tem = jnp.asarray(alfvar.sspgrid.logagegrid)"
   ]
  },
  {
   "cell_type": "code",
   "execution_count": 84,
   "id": "d27f718d-1895-413e-bc78-a8680714a8bb",
   "metadata": {},
   "outputs": [
    {
     "name": "stdout",
     "output_type": "stream",
     "text": [
      "6.18 ms ± 458 µs per loop (mean ± std. dev. of 7 runs, 100 loops each)\n"
     ]
    }
   ],
   "source": [
    "%timeit locate(tem, pos.logage)"
   ]
  },
  {
   "cell_type": "code",
   "execution_count": 27,
   "id": "234a5d71-a8c8-4031-a1f7-4181352eeeab",
   "metadata": {},
   "outputs": [
    {
     "name": "stdout",
     "output_type": "stream",
     "text": [
      "1.93 µs ± 68.9 ns per loop (mean ± std. dev. of 7 runs, 100000 loops each)\n"
     ]
    }
   ],
   "source": [
    "%timeit np.square(sspgrid.lam)"
   ]
  },
  {
   "cell_type": "code",
   "execution_count": 29,
   "id": "664aa8fa-dae3-472e-bdb0-7133af53d897",
   "metadata": {},
   "outputs": [
    {
     "name": "stdout",
     "output_type": "stream",
     "text": [
      "2 µs ± 60.3 ns per loop (mean ± std. dev. of 7 runs, 100000 loops each)\n"
     ]
    }
   ],
   "source": [
    "%timeit sspgrid.lam**2"
   ]
  },
  {
   "cell_type": "code",
   "execution_count": null,
   "id": "c90684f3-c5bb-4f27-b73b-9e39db231232",
   "metadata": {},
   "outputs": [],
   "source": []
  }
 ],
 "metadata": {
  "kernelspec": {
   "display_name": "Python 3 (ipykernel)",
   "language": "python",
   "name": "python3"
  },
  "language_info": {
   "codemirror_mode": {
    "name": "ipython",
    "version": 3
   },
   "file_extension": ".py",
   "mimetype": "text/x-python",
   "name": "python",
   "nbconvert_exporter": "python",
   "pygments_lexer": "ipython3",
   "version": "3.7.4"
  }
 },
 "nbformat": 4,
 "nbformat_minor": 5
}
