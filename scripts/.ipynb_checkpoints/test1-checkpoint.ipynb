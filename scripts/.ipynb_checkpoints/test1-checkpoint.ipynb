{
 "cells": [
  {
   "cell_type": "code",
   "execution_count": 29,
   "metadata": {},
   "outputs": [],
   "source": [
    "%matplotlib inline\n",
    "import matplotlib.pyplot as plt\n",
    "from astropy.io import ascii as astro_ascii\n",
    "import pickle, scipy, copy, numpy as np, pandas as pd\n",
    "import math\n",
    "#from alf_vars import *\n",
    "from linterp import *\n",
    "from scipy import constants\n",
    "from velbroad import *\n",
    "from set_pinit_priors import *\n",
    "from setup import *\n",
    "from vacairconv import *\n",
    "from read_data import *\n",
    "from getm2l import getm2l\n",
    "from getmass import getmass\n",
    "from getmodel import getmodel\n",
    "from contnormspec import contnormspec\n",
    "from getvelz import getvelz\n",
    "from str2arr import *\n",
    "from spec_from_sum import spec_from_sum\n",
    "from write_a_model import *\n",
    "from func import *\n",
    "from alf_constants import *\n",
    "\n",
    "from priors import TopHat"
   ]
  },
  {
   "cell_type": "code",
   "execution_count": 2,
   "metadata": {},
   "outputs": [],
   "source": [
    "alfvar = pickle.load(open('../pickle/alfvar_sspgrid_irldss3_imftype3_full.p', \"rb\" ))"
   ]
  },
  {
   "cell_type": "code",
   "execution_count": 3,
   "metadata": {},
   "outputs": [],
   "source": [
    "pos, alfvar, mspec_ = spec_from_sum('ldss3_dr246_n4055_Re4_wave6e_imf3hernoatm', \n",
    "                                   alfvar, \n",
    "                                   getsum = 'minchi2', \n",
    "                                   returnspec=True)\n",
    "mspec = mspec_[1]\n",
    "posarr = str2arr(switch=1, instr=pos)"
   ]
  },
  {
   "cell_type": "code",
   "execution_count": 17,
   "metadata": {},
   "outputs": [],
   "source": [
    "a = velbroad(alfvar.sspgrid.lam, mspec, pos.sigma, alfvar.l1[0], \n",
    "         alfvar.l2[alfvar.nlint-1], velbroad_simple = 1, alfvar=alfvar)"
   ]
  },
  {
   "cell_type": "code",
   "execution_count": 18,
   "metadata": {},
   "outputs": [],
   "source": [
    "b = velbroad(alfvar.sspgrid.lam, mspec, pos.sigma, alfvar.l1[0], \n",
    "         alfvar.l2[alfvar.nlint-1], velbroad_simple = 0, alfvar=alfvar)"
   ]
  },
  {
   "cell_type": "code",
   "execution_count": 26,
   "metadata": {},
   "outputs": [
    {
     "data": {
      "text/plain": [
       "250.4198"
      ]
     },
     "execution_count": 26,
     "metadata": {},
     "output_type": "execute_result"
    }
   ],
   "source": [
    "pos.sigma"
   ]
  },
  {
   "cell_type": "code",
   "execution_count": 30,
   "metadata": {},
   "outputs": [
    {
     "name": "stdout",
     "output_type": "stream",
     "text": [
      "n2= 5731\n"
     ]
    },
    {
     "ename": "NameError",
     "evalue": "name 'm' is not defined",
     "output_type": "error",
     "traceback": [
      "\u001b[0;31m---------------------------------------------------------------------------\u001b[0m",
      "\u001b[0;31mNameError\u001b[0m                                 Traceback (most recent call last)",
      "\u001b[0;32m<ipython-input-30-0d829da88075>\u001b[0m in \u001b[0;36m<module>\u001b[0;34m\u001b[0m\n\u001b[1;32m     14\u001b[0m \u001b[0mpsig\u001b[0m \u001b[0;34m=\u001b[0m \u001b[0mfwhm\u001b[0m\u001b[0;34m/\u001b[0m\u001b[0;36m2.\u001b[0m\u001b[0;34m/\u001b[0m\u001b[0mmath\u001b[0m\u001b[0;34m.\u001b[0m\u001b[0msqrt\u001b[0m\u001b[0;34m(\u001b[0m\u001b[0;34m-\u001b[0m\u001b[0;36m2.0\u001b[0m\u001b[0;34m*\u001b[0m\u001b[0mmath\u001b[0m\u001b[0;34m.\u001b[0m\u001b[0mlog\u001b[0m\u001b[0;34m(\u001b[0m\u001b[0;36m0.5\u001b[0m\u001b[0;34m)\u001b[0m\u001b[0;34m)\u001b[0m \u001b[0;31m#! equivalent sigma for kernel\u001b[0m\u001b[0;34m\u001b[0m\u001b[0;34m\u001b[0m\u001b[0m\n\u001b[1;32m     15\u001b[0m \u001b[0;34m\u001b[0m\u001b[0m\n\u001b[0;32m---> 16\u001b[0;31m \u001b[0mgrange\u001b[0m \u001b[0;34m=\u001b[0m \u001b[0mmath\u001b[0m\u001b[0;34m.\u001b[0m\u001b[0mfloor\u001b[0m\u001b[0;34m(\u001b[0m\u001b[0mm\u001b[0m\u001b[0;34m*\u001b[0m\u001b[0mpsig\u001b[0m\u001b[0;34m)\u001b[0m \u001b[0;31m#! range for kernel (-range:range)\u001b[0m\u001b[0;34m\u001b[0m\u001b[0;34m\u001b[0m\u001b[0m\n\u001b[0m\u001b[1;32m     17\u001b[0m \u001b[0;32mif\u001b[0m \u001b[0mgrange\u001b[0m \u001b[0;34m>\u001b[0m\u001b[0;36m1\u001b[0m\u001b[0;34m:\u001b[0m\u001b[0;34m\u001b[0m\u001b[0;34m\u001b[0m\u001b[0m\n\u001b[1;32m     18\u001b[0m     \u001b[0mtspec\u001b[0m \u001b[0;34m=\u001b[0m \u001b[0mlinterp\u001b[0m\u001b[0;34m(\u001b[0m\u001b[0mnp\u001b[0m\u001b[0;34m.\u001b[0m\u001b[0mlog\u001b[0m\u001b[0;34m(\u001b[0m\u001b[0mlam\u001b[0m\u001b[0;34m[\u001b[0m\u001b[0;36m0\u001b[0m\u001b[0;34m:\u001b[0m\u001b[0mn2\u001b[0m\u001b[0;34m]\u001b[0m\u001b[0;34m)\u001b[0m\u001b[0;34m,\u001b[0m \u001b[0mspec\u001b[0m\u001b[0;34m[\u001b[0m\u001b[0;36m0\u001b[0m\u001b[0;34m:\u001b[0m\u001b[0mn2\u001b[0m\u001b[0;34m]\u001b[0m\u001b[0;34m,\u001b[0m \u001b[0malfvar\u001b[0m\u001b[0;34m.\u001b[0m\u001b[0mlnlam\u001b[0m\u001b[0;34m[\u001b[0m\u001b[0;36m0\u001b[0m\u001b[0;34m:\u001b[0m\u001b[0mn2\u001b[0m\u001b[0;34m]\u001b[0m\u001b[0;34m)\u001b[0m\u001b[0;34m\u001b[0m\u001b[0;34m\u001b[0m\u001b[0m\n",
      "\u001b[0;31mNameError\u001b[0m: name 'm' is not defined"
     ]
    }
   ],
   "source": [
    "        nn = alfvar.sspgrid.lam.size\n",
    "    m=6\n",
    "        if nn==alfvar.nl:\n",
    "            n2 = alfvar.nl_fit\n",
    "        else:\n",
    "            n2 = alfvar.nl\n",
    "        print('n2=',n2)\n",
    "        sigma = pos.sigma\n",
    "        \n",
    "        if alfvar.dlstep ==0:\n",
    "            alfvar.dlstep = (math.log(alfvar.sspgrid.lam[-1])-math.log(alfvar.sspgrid.lam[0]))/alfvar.sspgrid.lam.size\n",
    "            alfvar.lnlam = np.arange(alfvar.nl_fit)*alfvar.dlstep+math.log(alfvar.sspgrid.lam[0])\n",
    "            \n",
    "        fwhm = sigma*2.35482/clight*1e5/alfvar.dlstep\n",
    "        psig = fwhm/2./math.sqrt(-2.0*math.log(0.5)) #! equivalent sigma for kernel\n",
    "\n",
    "        grange = math.floor(m*psig) #! range for kernel (-range:range)\n",
    "        if grange >1:\n",
    "            tspec = linterp(np.log(lam[0:n2]), spec[0:n2], alfvar.lnlam[0:n2])\n",
    "            nspec = np.zeros_like(tspec)\n",
    "            psf = np.zeros(2*grange+1)\n",
    "            for i in range(0, 2*grange+1):\n",
    "                psf[i] = 1.0/math.sqrt(2*mypi)/psig*math.exp(-((i-grange)/psig)**2/2.0)\n",
    "                \n",
    "            psf= psf/np.nansum(psf)\n",
    "            for i in range(grange, n2-grange):\n",
    "                nspec[i] = np.nansum(psf*tspec[i-grange:i+grange+1])\n",
    "                \n",
    "            if len(spec)>n2:\n",
    "                nspec[n2-grange:n2] = spec[n2-grange:n2]\n",
    "            # ---- !interpolate back to the main array\n",
    "            spec[0:n2] = linterp(np.exp(alfvar.lnlam[0:n2]),nspec[0:n2],lam[0:n2])    "
   ]
  },
  {
   "cell_type": "code",
   "execution_count": 21,
   "metadata": {},
   "outputs": [
    {
     "data": {
      "text/plain": [
       "(5000.0, 6000.0)"
      ]
     },
     "execution_count": 21,
     "metadata": {},
     "output_type": "execute_result"
    },
    {
     "data": {
      "image/png": "[encoded data removed]",
      "text/plain": [
       "<Figure size 432x288 with 1 Axes>"
      ]
     },
     "metadata": {
      "needs_background": "light"
     },
     "output_type": "display_data"
    }
   ],
   "source": [
    "plt.plot(a)\n",
    "plt.plot(b)\n",
    "plt.xlim(5e3, 6e3)"
   ]
  },
  {
   "cell_type": "code",
   "execution_count": 5,
   "metadata": {},
   "outputs": [
    {
     "name": "stdout",
     "output_type": "stream",
     "text": [
      "1.04 s ± 29 ms per loop (mean ± std. dev. of 7 runs, 1 loop each)\n"
     ]
    }
   ],
   "source": [
    "%timeit getmodel(pos, alfvar)"
   ]
  },
  {
   "cell_type": "code",
   "execution_count": 6,
   "metadata": {},
   "outputs": [
    {
     "name": "stdout",
     "output_type": "stream",
     "text": [
      "         172985 function calls in 1.097 seconds\n",
      "\n",
      "   Ordered by: standard name\n",
      "\n",
      "   ncalls  tottime  percall  cumtime  percall filename:lineno(function)\n",
      "        1    0.000    0.000    1.097    1.097 <string>:1(<module>)\n",
      "        1    0.000    0.000    0.000    0.000 _methods.py:42(_any)\n",
      "       20    0.008    0.000    0.008    0.000 add_response.py:5(add_response)\n",
      "     5731    0.008    0.000    0.077    0.000 fromnumeric.py:1110(argmin)\n",
      "    10679    0.023    0.000    0.137    0.000 fromnumeric.py:1966(sum)\n",
      "        1    0.000    0.000    0.000    0.000 fromnumeric.py:2083(any)\n",
      "     5731    0.005    0.000    0.070    0.000 fromnumeric.py:54(_wrapfunc)\n",
      "    10680    0.031    0.000    0.109    0.000 fromnumeric.py:69(_wrapreduction)\n",
      "    10680    0.011    0.000    0.011    0.000 fromnumeric.py:70(<dictcomp>)\n",
      "        2    0.000    0.000    0.000    0.000 function_base.py:1282(interp)\n",
      "        3    0.000    0.000    0.000    0.000 function_base.py:747(copy)\n",
      "        1    0.009    0.009    1.097    1.097 getmodel.py:14(getmodel)\n",
      "        9    0.000    0.000    0.000    0.000 linterp.py:15(locate)\n",
      "        2    0.000    0.000    0.000    0.000 linterp.py:82(linterp)\n",
      "    10676    0.094    0.000    0.418    0.000 linterp.py:87(tsum)\n",
      "        1    0.000    0.000    0.000    0.000 nanfunctions.py:1385(nanvar)\n",
      "        1    0.000    0.000    0.000    0.000 nanfunctions.py:1532(nanstd)\n",
      "        2    0.000    0.000    0.000    0.000 nanfunctions.py:156(_divide_by_count)\n",
      "    10677    0.054    0.000    0.168    0.000 nanfunctions.py:43(_replace_nan)\n",
      "    10676    0.019    0.000    0.325    0.000 nanfunctions.py:526(nansum)\n",
      "        1    0.000    0.000    0.000    0.000 nanfunctions.py:87(_copyto)\n",
      "        1    0.000    0.000    0.000    0.000 numeric.py:175(ones)\n",
      "        4    0.000    0.000    0.000    0.000 numeric.py:2656(seterr)\n",
      "        4    0.000    0.000    0.000    0.000 numeric.py:2758(geterr)\n",
      "        2    0.000    0.000    0.000    0.000 numeric.py:3054(__init__)\n",
      "        2    0.000    0.000    0.000    0.000 numeric.py:3058(__enter__)\n",
      "        2    0.000    0.000    0.000    0.000 numeric.py:3063(__exit__)\n",
      "        2    0.000    0.000    0.000    0.000 numeric.py:469(asarray)\n",
      "        2    0.000    0.000    0.000    0.000 type_check.py:282(iscomplexobj)\n",
      "        1    0.062    0.062    0.168    0.168 velbroad.py:115(<listcomp>)\n",
      "        1    0.487    0.487    1.080    1.080 velbroad.py:45(velbroad)\n",
      "     5731    0.029    0.000    0.029    0.000 {built-in method builtins.abs}\n",
      "        1    0.000    0.000    1.097    1.097 {built-in method builtins.exec}\n",
      "     5732    0.003    0.000    0.003    0.000 {built-in method builtins.getattr}\n",
      "    10683    0.005    0.000    0.005    0.000 {built-in method builtins.isinstance}\n",
      "    10680    0.004    0.000    0.004    0.000 {built-in method builtins.issubclass}\n",
      "        9    0.000    0.000    0.000    0.000 {built-in method builtins.len}\n",
      "       39    0.000    0.000    0.000    0.000 {built-in method builtins.max}\n",
      "       20    0.000    0.000    0.000    0.000 {built-in method builtins.min}\n",
      "    16014    0.006    0.000    0.006    0.000 {built-in method math.sqrt}\n",
      "        2    0.000    0.000    0.000    0.000 {built-in method numpy.arange}\n",
      "    10683    0.068    0.000    0.068    0.000 {built-in method numpy.array}\n",
      "    10679    0.043    0.000    0.043    0.000 {built-in method numpy.copyto}\n",
      "        2    0.000    0.000    0.000    0.000 {built-in method numpy.core._multiarray_umath.interp}\n",
      "        4    0.000    0.000    0.000    0.000 {built-in method numpy.empty}\n",
      "        8    0.000    0.000    0.000    0.000 {built-in method numpy.geterrobj}\n",
      "        4    0.000    0.000    0.000    0.000 {built-in method numpy.seterrobj}\n",
      "        2    0.000    0.000    0.000    0.000 {built-in method numpy.zeros}\n",
      "        1    0.000    0.000    0.000    0.000 {method 'any' of 'numpy.generic' objects}\n",
      "     5731    0.062    0.000    0.062    0.000 {method 'argmin' of 'numpy.ndarray' objects}\n",
      "        1    0.000    0.000    0.000    0.000 {method 'disable' of '_lsprof.Profiler' objects}\n",
      "    10680    0.003    0.000    0.003    0.000 {method 'items' of 'dict' objects}\n",
      "        2    0.000    0.000    0.000    0.000 {method 'pop' of 'dict' objects}\n",
      "    10680    0.064    0.000    0.064    0.000 {method 'reduce' of 'numpy.ufunc' objects}\n",
      "        1    0.000    0.000    0.000    0.000 {method 'squeeze' of 'numpy.ndarray' objects}\n",
      "\n",
      "\n"
     ]
    }
   ],
   "source": [
    "import cProfile\n",
    "cProfile.run(\"getmodel(pos, alfvar)\")"
   ]
  },
  {
   "cell_type": "code",
   "execution_count": null,
   "metadata": {},
   "outputs": [],
   "source": []
  }
 ],
 "metadata": {
  "kernelspec": {
   "display_name": "Python 3",
   "language": "python",
   "name": "python3"
  },
  "language_info": {
   "codemirror_mode": {
    "name": "ipython",
    "version": 3
   },
   "file_extension": ".py",
   "mimetype": "text/x-python",
   "name": "python",
   "nbconvert_exporter": "python",
   "pygments_lexer": "ipython3",
   "version": "3.7.4"
  }
 },
 "nbformat": 4,
 "nbformat_minor": 4
}
