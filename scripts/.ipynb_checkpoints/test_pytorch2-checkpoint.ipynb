{
 "cells": [
  {
   "cell_type": "code",
   "execution_count": 1,
   "id": "19183eaa-bed5-4d67-a771-77700e03e772",
   "metadata": {},
   "outputs": [],
   "source": [
    "%matplotlib inline\n",
    "import matplotlib.pyplot as plt\n",
    "from astropy.io import ascii as astro_ascii\n",
    "import pickle, scipy, copy, numpy as np, pandas as pd\n",
    "from dynesty import plotting as dyplot\n",
    "import sys, math\n",
    "alfpydir = '../scripts/'\n",
    "sys.path.insert(1, alfpydir)\n",
    "from getmodel_pytorch import *\n",
    "from getmodel_pytorch import locate"
   ]
  },
  {
   "cell_type": "markdown",
   "id": "f7627336-ab52-4923-bffd-cfe008d68340",
   "metadata": {},
   "source": [
    "# notes\n",
    "- locate is faster for numpy array"
   ]
  },
  {
   "cell_type": "code",
   "execution_count": 2,
   "id": "76dfb1bb-d523-4807-bc6b-bcb8acabb279",
   "metadata": {},
   "outputs": [],
   "source": [
    "import torch"
   ]
  },
  {
   "cell_type": "code",
   "execution_count": 3,
   "id": "a799aa50-2469-41b1-b88c-b488f2784c00",
   "metadata": {},
   "outputs": [],
   "source": [
    "from str2arr import alfobj\n",
    "alfvar = pickle.load(open('../pickle/alfvar_sspgrid_alff90_test1.p', \"rb\" ))\n",
    "\n",
    "pos = alfobj()\n",
    "pos.sigma = 200\n",
    "pos.zh = -0.2\n",
    "pos.logage = math.log10(8.)\n",
    "pos.imf1 = 1.301\n",
    "pos.imf2 = 2.301\n",
    "pos.imf3 = 0.0801\n",
    "#spec_p = getmodel(pos, alfvar = alfvar)"
   ]
  },
  {
   "cell_type": "markdown",
   "id": "ad38392f-d935-478b-bbf2-c2b81a80efc9",
   "metadata": {},
   "source": [
    "### update get_dv"
   ]
  },
  {
   "cell_type": "code",
   "execution_count": 65,
   "id": "4b2f7fe9-db8c-44bb-8cca-2f408cf7db27",
   "metadata": {},
   "outputs": [],
   "source": [
    "def get_dv(ingrid, inval, maxv, minv, maxind, minind):\n",
    "    inind = max(min(locate(ingrid, inval),maxind),minind)  \n",
    "    return inind, max(min((inval - ingrid[inind])/(ingrid[inind+1]-ingrid[inind]), maxv), minv)"
   ]
  },
  {
   "cell_type": "code",
   "execution_count": null,
   "id": "49cf39ce-5ad9-4d9e-8400-cc9442b3cf74",
   "metadata": {},
   "outputs": [],
   "source": [
    "def get_dv2(ingrid, inval, maxv, minv, maxind, minind):\n",
    "    inind = max(min(locate(ingrid, inval),maxind),minind)  \n",
    "    return inind, max(min((inval - ingrid[inind])/(ingrid[inind+1]-ingrid[inind]), maxv), minv)"
   ]
  },
  {
   "cell_type": "code",
   "execution_count": 67,
   "id": "a5c90779-dcc6-4b59-a402-4afc1313b908",
   "metadata": {},
   "outputs": [
    {
     "name": "stdout",
     "output_type": "stream",
     "text": [
      "3.09 µs ± 54.3 ns per loop (mean ± std. dev. of 7 runs, 100000 loops each)\n"
     ]
    }
   ],
   "source": [
    "%timeit get_dv(alfvar.sspgrid.logagegrid, pos.logage, 1.2, -0.3, alfvar.nage-2,0)"
   ]
  },
  {
   "cell_type": "code",
   "execution_count": 68,
   "id": "1a44cdb6-5bda-46f2-a6b0-973a6ab0d67e",
   "metadata": {},
   "outputs": [],
   "source": [
    "tem = torch.tensor(alfvar.sspgrid.logagegrid)"
   ]
  },
  {
   "cell_type": "code",
   "execution_count": 69,
   "id": "97a93ec0-da0e-4a43-bf7c-0932e124c17e",
   "metadata": {},
   "outputs": [
    {
     "name": "stdout",
     "output_type": "stream",
     "text": [
      "50.3 µs ± 1.9 µs per loop (mean ± std. dev. of 7 runs, 10000 loops each)\n"
     ]
    }
   ],
   "source": [
    "%timeit get_dv(tem, pos.logage, 1.2, -0.3, alfvar.nage-2,0)"
   ]
  },
  {
   "cell_type": "code",
   "execution_count": null,
   "id": "af7c1ac0-699a-4ff6-86c9-8b312d678f90",
   "metadata": {},
   "outputs": [],
   "source": []
  },
  {
   "cell_type": "code",
   "execution_count": null,
   "id": "45ec55b9-b7de-44ff-8af5-b90ef9ce3c60",
   "metadata": {},
   "outputs": [],
   "source": []
  },
  {
   "cell_type": "code",
   "execution_count": null,
   "id": "fbd5860a-a4b3-483f-85c2-f0d8338561d7",
   "metadata": {},
   "outputs": [],
   "source": []
  },
  {
   "cell_type": "code",
   "execution_count": null,
   "id": "a4b55255-dbee-4a10-acbe-beb1fcd0232e",
   "metadata": {},
   "outputs": [],
   "source": [
    "%timeit get_dv(alfvar.sspgrid.logagegrid, pos.logage, 1.2, -0.3, alfvar.nage-2,0)"
   ]
  },
  {
   "cell_type": "code",
   "execution_count": 3,
   "id": "9431c897-8705-4775-983f-c19da738e2f6",
   "metadata": {},
   "outputs": [
    {
     "name": "stdout",
     "output_type": "stream",
     "text": [
      "7.45 ms ± 122 µs per loop (mean ± std. dev. of 7 runs, 100 loops each)\n"
     ]
    }
   ],
   "source": [
    "%timeit getmodel(pos, alfvar = alfvar)"
   ]
  },
  {
   "cell_type": "code",
   "execution_count": 24,
   "id": "cd593bf8-a953-498a-b72d-0ff6eeb648ca",
   "metadata": {},
   "outputs": [
    {
     "data": {
      "text/plain": [
       "<str2arr.alfobj at 0x7ff911c8b310>"
      ]
     },
     "execution_count": 24,
     "metadata": {},
     "output_type": "execute_result"
    }
   ],
   "source": [
    "pos"
   ]
  },
  {
   "cell_type": "code",
   "execution_count": 7,
   "id": "4c4ec3c1-1a6c-4442-93f3-7543be4bdcc4",
   "metadata": {},
   "outputs": [],
   "source": [
    "def get_dv(ingrid, inval, maxv, minv, maxind, minind):\n",
    "    inind = max(min(locate(ingrid, inval),maxind),minind)  \n",
    "    return inind, max(min((inval - ingrid[inind])/(ingrid[inind+1]-ingrid[inind]), maxv), minv)\n",
    "\n"
   ]
  },
  {
   "cell_type": "code",
   "execution_count": 7,
   "id": "4bf5fc24-7a8c-461e-aeed-61bb75d14457",
   "metadata": {},
   "outputs": [],
   "source": [
    "test1 =  torch.arange(12)\n",
    "test2 =  np.arange(12)"
   ]
  },
  {
   "cell_type": "code",
   "execution_count": 20,
   "id": "83409e8f-d6bf-477f-b73e-67b186f119d8",
   "metadata": {},
   "outputs": [
    {
     "name": "stdout",
     "output_type": "stream",
     "text": [
      "43.1 µs ± 688 ns per loop (mean ± std. dev. of 7 runs, 10000 loops each)\n"
     ]
    }
   ],
   "source": [
    "%timeit locate(test1, 5.7)"
   ]
  },
  {
   "cell_type": "code",
   "execution_count": 21,
   "id": "a63ae967-e382-4500-8ff0-2e710793c8b9",
   "metadata": {},
   "outputs": [
    {
     "name": "stdout",
     "output_type": "stream",
     "text": [
      "6.49 µs ± 59.6 ns per loop (mean ± std. dev. of 7 runs, 100000 loops each)\n"
     ]
    }
   ],
   "source": [
    "%timeit locate(test2, 5.7)"
   ]
  },
  {
   "cell_type": "code",
   "execution_count": 18,
   "id": "8209c47a-7734-4815-82e6-2e8745917547",
   "metadata": {},
   "outputs": [
    {
     "data": {
      "text/plain": [
       "tensor([1., 2., 3., 4.])"
      ]
     },
     "execution_count": 18,
     "metadata": {},
     "output_type": "execute_result"
    }
   ],
   "source": [
    "torch.arange(1., 5.)"
   ]
  },
  {
   "cell_type": "code",
   "execution_count": 29,
   "id": "03de3b83-9079-4bcd-9ba7-7a63e11f2405",
   "metadata": {},
   "outputs": [
    {
     "data": {
      "text/plain": [
       "tensor([13., 14., 15., 16.])"
      ]
     },
     "execution_count": 29,
     "metadata": {},
     "output_type": "execute_result"
    }
   ],
   "source": [
    "start = torch.arange(1., 5)\n",
    "end = 12.0+torch.arange(1., 5)\n",
    "torch.lerp(start, end, 1)"
   ]
  },
  {
   "cell_type": "code",
   "execution_count": 33,
   "id": "37846e0d-ed24-4c0c-91b4-6611d9ed8cc2",
   "metadata": {},
   "outputs": [
    {
     "data": {
      "text/plain": [
       "tensor([13., 14., 15., 16.])"
      ]
     },
     "execution_count": 33,
     "metadata": {},
     "output_type": "execute_result"
    }
   ],
   "source": [
    "torch.lerp(torch.arange(1., 5), 12+torch.arange(1., 5), 1.0)"
   ]
  },
  {
   "cell_type": "code",
   "execution_count": 5,
   "id": "ad6aa10b-b634-4d7c-ad3b-d0621994543e",
   "metadata": {},
   "outputs": [],
   "source": [
    "    sspgrid = alfvar.sspgrid    \n",
    "    msto_t0 = alfvar.msto_t0; msto_t1 = alfvar.msto_t1\n",
    "    msto_z0 = alfvar.msto_z0; msto_z1 = alfvar.msto_z1; msto_z2=alfvar.msto_z2\n",
    "    krpa_imf1, krpa_imf2, krpa_imf3 = alfvar.krpa_imf1, alfvar.krpa_imf2, alfvar.krpa_imf3\n",
    "    nzmet = alfvar.nzmet\n",
    "    nzmet3 = alfvar.nzmet3\n",
    "    nimf = alfvar.nimf\n",
    "    nage = alfvar.nage\n",
    "    imfr1, imfr2,  imfr3 = alfvar.imfr1, alfvar.imfr2, alfvar.imfr3\n",
    "\n",
    "    hermite = np.zeros(2)"
   ]
  },
  {
   "cell_type": "code",
   "execution_count": 6,
   "id": "ffc4d127-421a-4474-9862-b0a9704ee812",
   "metadata": {},
   "outputs": [
    {
     "ename": "NameError",
     "evalue": "name 'get_dv' is not defined",
     "output_type": "error",
     "traceback": [
      "\u001b[0;31m---------------------------------------------------------------------------\u001b[0m",
      "\u001b[0;31mNameError\u001b[0m                                 Traceback (most recent call last)",
      "\u001b[0;32m/var/folders/pw/939bx1yj27n09f6t28x1rtv40000gn/T/ipykernel_4571/2278349446.py\u001b[0m in \u001b[0;36m<module>\u001b[0;34m\u001b[0m\n\u001b[0;32m----> 1\u001b[0;31m \u001b[0mvt\u001b[0m\u001b[0;34m,\u001b[0m \u001b[0mdt\u001b[0m \u001b[0;34m=\u001b[0m \u001b[0mget_dv\u001b[0m\u001b[0;34m(\u001b[0m\u001b[0msspgrid\u001b[0m\u001b[0;34m.\u001b[0m\u001b[0mlogagegrid\u001b[0m\u001b[0;34m,\u001b[0m \u001b[0mpos\u001b[0m\u001b[0;34m.\u001b[0m\u001b[0mlogage\u001b[0m\u001b[0;34m,\u001b[0m \u001b[0;36m1.2\u001b[0m\u001b[0;34m,\u001b[0m \u001b[0;34m-\u001b[0m\u001b[0;36m0.3\u001b[0m\u001b[0;34m,\u001b[0m \u001b[0malfvar\u001b[0m\u001b[0;34m.\u001b[0m\u001b[0mnage\u001b[0m\u001b[0;34m-\u001b[0m\u001b[0;36m2\u001b[0m\u001b[0;34m,\u001b[0m\u001b[0;36m0\u001b[0m\u001b[0;34m)\u001b[0m\u001b[0;34m\u001b[0m\u001b[0;34m\u001b[0m\u001b[0m\n\u001b[0m",
      "\u001b[0;31mNameError\u001b[0m: name 'get_dv' is not defined"
     ]
    }
   ],
   "source": [
    "vt, dt = get_dv(sspgrid.logagegrid, pos.logage, 1.2, -0.3, alfvar.nage-2,0)"
   ]
  },
  {
   "cell_type": "code",
   "execution_count": 38,
   "id": "e9a015df-40ce-4890-b653-13160ce10ff5",
   "metadata": {},
   "outputs": [],
   "source": [
    "test_tensor = torch.tensor(alfvar.sspgrid.logsspm)"
   ]
  },
  {
   "cell_type": "code",
   "execution_count": 54,
   "id": "6982ff2a-61a9-488f-84ef-0507adc8d018",
   "metadata": {},
   "outputs": [
    {
     "ename": "ValueError",
     "evalue": "either size or scale_factor should be defined",
     "output_type": "error",
     "traceback": [
      "\u001b[0;31m---------------------------------------------------------------------------\u001b[0m",
      "\u001b[0;31mValueError\u001b[0m                                Traceback (most recent call last)",
      "\u001b[0;32m/var/folders/pw/939bx1yj27n09f6t28x1rtv40000gn/T/ipykernel_5099/1472881625.py\u001b[0m in \u001b[0;36m<module>\u001b[0;34m\u001b[0m\n\u001b[0;32m----> 1\u001b[0;31m \u001b[0mtorch\u001b[0m\u001b[0;34m.\u001b[0m\u001b[0mnn\u001b[0m\u001b[0;34m.\u001b[0m\u001b[0mfunctional\u001b[0m\u001b[0;34m.\u001b[0m\u001b[0minterpolate\u001b[0m\u001b[0;34m(\u001b[0m\u001b[0mtest_tensor\u001b[0m\u001b[0;34m)\u001b[0m\u001b[0;34m\u001b[0m\u001b[0;34m\u001b[0m\u001b[0m\n\u001b[0m",
      "\u001b[0;32m~/Library/Python/3.7/lib/python/site-packages/torch/nn/functional.py\u001b[0m in \u001b[0;36minterpolate\u001b[0;34m(input, size, scale_factor, mode, align_corners, recompute_scale_factor)\u001b[0m\n\u001b[1;32m   3669\u001b[0m             \u001b[0mscale_factors\u001b[0m \u001b[0;34m=\u001b[0m \u001b[0;34m[\u001b[0m\u001b[0mscale_factor\u001b[0m \u001b[0;32mfor\u001b[0m \u001b[0m_\u001b[0m \u001b[0;32min\u001b[0m \u001b[0mrange\u001b[0m\u001b[0;34m(\u001b[0m\u001b[0mdim\u001b[0m\u001b[0;34m)\u001b[0m\u001b[0;34m]\u001b[0m\u001b[0;34m\u001b[0m\u001b[0;34m\u001b[0m\u001b[0m\n\u001b[1;32m   3670\u001b[0m     \u001b[0;32melse\u001b[0m\u001b[0;34m:\u001b[0m\u001b[0;34m\u001b[0m\u001b[0;34m\u001b[0m\u001b[0m\n\u001b[0;32m-> 3671\u001b[0;31m         \u001b[0;32mraise\u001b[0m \u001b[0mValueError\u001b[0m\u001b[0;34m(\u001b[0m\u001b[0;34m\"either size or scale_factor should be defined\"\u001b[0m\u001b[0;34m)\u001b[0m\u001b[0;34m\u001b[0m\u001b[0;34m\u001b[0m\u001b[0m\n\u001b[0m\u001b[1;32m   3672\u001b[0m \u001b[0;34m\u001b[0m\u001b[0m\n\u001b[1;32m   3673\u001b[0m     \u001b[0;32mif\u001b[0m \u001b[0mrecompute_scale_factor\u001b[0m \u001b[0;32mis\u001b[0m \u001b[0;32mNone\u001b[0m\u001b[0;34m:\u001b[0m\u001b[0;34m\u001b[0m\u001b[0;34m\u001b[0m\u001b[0m\n",
      "\u001b[0;31mValueError\u001b[0m: either size or scale_factor should be defined"
     ]
    }
   ],
   "source": [
    "torch.nn.functional.interpolate(test_tensor)"
   ]
  },
  {
   "cell_type": "code",
   "execution_count": 62,
   "id": "377a996c-9816-4ece-b397-98175ab1b6cb",
   "metadata": {},
   "outputs": [
    {
     "data": {
      "text/plain": [
       "torch.Size([5731, 14, 14, 7, 8, 3])"
      ]
     },
     "execution_count": 62,
     "metadata": {},
     "output_type": "execute_result"
    }
   ],
   "source": [
    "test_tensor.shape"
   ]
  },
  {
   "cell_type": "code",
   "execution_count": 64,
   "id": "70a70325-374c-4b25-8e29-a558ccc61c56",
   "metadata": {},
   "outputs": [
    {
     "data": {
      "text/plain": [
       "torch.Size([1, 5731, 14, 14, 7, 8, 3])"
      ]
     },
     "execution_count": 64,
     "metadata": {},
     "output_type": "execute_result"
    }
   ],
   "source": [
    "test_tensor.unsqueeze(0).float().shape"
   ]
  },
  {
   "cell_type": "code",
   "execution_count": 60,
   "id": "93dc8a66-7d40-45da-8498-9833706b3318",
   "metadata": {},
   "outputs": [
    {
     "ename": "ValueError",
     "evalue": "size shape must match input shape. Input is 5D, size is 2",
     "output_type": "error",
     "traceback": [
      "\u001b[0;31m---------------------------------------------------------------------------\u001b[0m",
      "\u001b[0;31mValueError\u001b[0m                                Traceback (most recent call last)",
      "\u001b[0;32m/var/folders/pw/939bx1yj27n09f6t28x1rtv40000gn/T/ipykernel_5099/3467118547.py\u001b[0m in \u001b[0;36m<module>\u001b[0;34m\u001b[0m\n\u001b[1;32m      1\u001b[0m y = torch.nn.functional.interpolate(test_tensor.unsqueeze(0).float(), \n\u001b[0;32m----> 2\u001b[0;31m                   size=(5, 5), mode='nearest').squeeze(0).long()\n\u001b[0m\u001b[1;32m      3\u001b[0m \u001b[0mprint\u001b[0m\u001b[0;34m(\u001b[0m\u001b[0my\u001b[0m\u001b[0;34m.\u001b[0m\u001b[0mshape\u001b[0m\u001b[0;34m)\u001b[0m\u001b[0;34m\u001b[0m\u001b[0;34m\u001b[0m\u001b[0m\n",
      "\u001b[0;32m~/Library/Python/3.7/lib/python/site-packages/torch/nn/functional.py\u001b[0m in \u001b[0;36minterpolate\u001b[0;34m(input, size, scale_factor, mode, align_corners, recompute_scale_factor)\u001b[0m\n\u001b[1;32m   3651\u001b[0m             \u001b[0;32mif\u001b[0m \u001b[0mlen\u001b[0m\u001b[0;34m(\u001b[0m\u001b[0msize\u001b[0m\u001b[0;34m)\u001b[0m \u001b[0;34m!=\u001b[0m \u001b[0mdim\u001b[0m\u001b[0;34m:\u001b[0m\u001b[0;34m\u001b[0m\u001b[0;34m\u001b[0m\u001b[0m\n\u001b[1;32m   3652\u001b[0m                 raise ValueError(\n\u001b[0;32m-> 3653\u001b[0;31m                     \u001b[0;34m\"size shape must match input shape. \"\u001b[0m \u001b[0;34m\"Input is {}D, size is {}\"\u001b[0m\u001b[0;34m.\u001b[0m\u001b[0mformat\u001b[0m\u001b[0;34m(\u001b[0m\u001b[0mdim\u001b[0m\u001b[0;34m,\u001b[0m \u001b[0mlen\u001b[0m\u001b[0;34m(\u001b[0m\u001b[0msize\u001b[0m\u001b[0;34m)\u001b[0m\u001b[0;34m)\u001b[0m\u001b[0;34m\u001b[0m\u001b[0;34m\u001b[0m\u001b[0m\n\u001b[0m\u001b[1;32m   3654\u001b[0m                 )\n\u001b[1;32m   3655\u001b[0m             \u001b[0moutput_size\u001b[0m \u001b[0;34m=\u001b[0m \u001b[0msize\u001b[0m\u001b[0;34m\u001b[0m\u001b[0;34m\u001b[0m\u001b[0m\n",
      "\u001b[0;31mValueError\u001b[0m: size shape must match input shape. Input is 5D, size is 2"
     ]
    }
   ],
   "source": [
    "\n",
    "y = torch.nn.functional.interpolate(test_tensor.unsqueeze(0).float(), \n",
    "                  size=(5, 5), mode='nearest').squeeze(0).long()\n",
    "print(y.shape)"
   ]
  },
  {
   "cell_type": "code",
   "execution_count": 51,
   "id": "678be372-4eb6-4c9e-a444-959c7ab2cd08",
   "metadata": {},
   "outputs": [
    {
     "data": {
      "text/plain": [
       "tensor([[7, 9, 9],\n",
       "        [9, 4, 5],\n",
       "        [8, 2, 4]])"
      ]
     },
     "execution_count": 51,
     "metadata": {},
     "output_type": "execute_result"
    }
   ],
   "source": [
    "x[0]"
   ]
  },
  {
   "cell_type": "code",
   "execution_count": null,
   "id": "83153fc5-4146-4d33-8a61-403ea9e50c35",
   "metadata": {},
   "outputs": [],
   "source": []
  }
 ],
 "metadata": {
  "kernelspec": {
   "display_name": "Python 3 (ipykernel)",
   "language": "python",
   "name": "python3"
  },
  "language_info": {
   "codemirror_mode": {
    "name": "ipython",
    "version": 3
   },
   "file_extension": ".py",
   "mimetype": "text/x-python",
   "name": "python",
   "nbconvert_exporter": "python",
   "pygments_lexer": "ipython3",
   "version": "3.7.4"
  }
 },
 "nbformat": 4,
 "nbformat_minor": 5
}
