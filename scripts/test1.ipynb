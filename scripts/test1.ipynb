{
 "cells": [
  {
   "cell_type": "code",
   "execution_count": 1,
   "metadata": {},
   "outputs": [],
   "source": [
    "%matplotlib inline\n",
    "import matplotlib.pyplot as plt\n",
    "from astropy.io import ascii as astro_ascii\n",
    "import pickle, scipy, copy, numpy as np, pandas as pd\n",
    "\n",
    "from alf_vars import *\n",
    "from linterp import *\n",
    "from scipy import constants\n",
    "from velbroad import *\n",
    "from set_pinit_priors import *\n",
    "from setup import *\n",
    "from vacairconv import *\n",
    "from read_data import *\n",
    "from getm2l import getm2l\n",
    "from getmass import getmass\n",
    "from getmodel import getmodel\n",
    "from contnormspec import contnormspec\n",
    "from getvelz import getvelz\n",
    "from str2arr import str2arr\n",
    "from spec_from_sum import spec_from_sum\n",
    "from write_a_model import *\n",
    "from func import *"
   ]
  },
  {
   "cell_type": "code",
   "execution_count": 2,
   "metadata": {},
   "outputs": [],
   "source": [
    "alfvar = pickle.load(open('alfvar_sspgrid_irldss3_imftype3.p', \"rb\" ))"
   ]
  },
  {
   "cell_type": "code",
   "execution_count": 3,
   "metadata": {},
   "outputs": [
    {
     "name": "stdout",
     "output_type": "stream",
     "text": [
      "m2l= [6.29104118 4.32483396 0.        ]\n"
     ]
    }
   ],
   "source": [
    "pos, alfvar, mspec = spec_from_sum('ldss3_dr246_n4055_Re4_wave6e_imf3hernoatm', \n",
    "                                   alfvar, \n",
    "                                   getsum = 'mean', \n",
    "                                   returnspec=True)"
   ]
  },
  {
   "cell_type": "code",
   "execution_count": null,
   "metadata": {},
   "outputs": [],
   "source": [
    "pos.feh"
   ]
  },
  {
   "cell_type": "code",
   "execution_count": 83,
   "metadata": {},
   "outputs": [
    {
     "name": "stdout",
     "output_type": "stream",
     "text": [
      "sigma= 50.0, fwhm=117.7, Rsigma=5995.8, R=2546.2\n",
      "sigma= 100.0, fwhm=235.5, Rsigma=2997.9, R=1273.1\n",
      "sigma= 150.0, fwhm=353.2, Rsigma=1998.6, R=848.7\n",
      "sigma= 200.0, fwhm=471.0, Rsigma=1499.0, R=636.6\n",
      "\n",
      "\n",
      "sigma= 127.3, fwhm=299.8, Rsigma=2354.8, R=1000.0\n",
      "sigma= 63.7, fwhm=149.9, Rsigma=4709.6, R=2000.0\n",
      "sigma= 42.4, fwhm=99.9, Rsigma=7064.4, R=3000.0\n",
      "sigma= 31.8, fwhm=74.9, Rsigma=9419.2, R=4000.0\n"
     ]
    }
   ],
   "source": [
    "ckms = 2.99792e5\n",
    "sigma_to_fwhm = 2.3548\n",
    "for sigma in [50, 100, 150, 200]:\n",
    "    fwhm = sigma * sigma_to_fwhm\n",
    "    Rsigma = ckms / sigma\n",
    "    R = ckms / fwhm\n",
    "    print('sigma= %.1f, fwhm=%.1f, Rsigma=%.1f, R=%.1f' %(sigma, fwhm, Rsigma, R))    \n",
    "print('\\n')\n",
    "for R in [1000, 2000, 3000, 4000]:\n",
    "    fwhm = ckms/R\n",
    "    sigma = fwhm / sigma_to_fwhm\n",
    "    Rsigma = ckms/sigma\n",
    "    print('sigma= %.1f, fwhm=%.1f, Rsigma=%.1f, R=%.1f' %(sigma, fwhm, Rsigma, R))       "
   ]
  },
  {
   "cell_type": "code",
   "execution_count": 155,
   "metadata": {},
   "outputs": [
    {
     "name": "stdout",
     "output_type": "stream",
     "text": [
      "4.3120284 9.65096874e-05\n",
      "2.417496 0.00012411189\n"
     ]
    }
   ],
   "source": [
    "l1 = [3.3812370, 4.8148427, 4.6216226, 4.1517949,  4.5906448]\n",
    "l2 = [0.00020186846, 3.9988503e-05, 6.6789602e-05, 0.00011237358, 6.1528292e-05]\n",
    "\n",
    "l1b = [2.4110827, 2.3014438, 2.4075849, 2.5498726]\n",
    "l2b = [0.00011929292, 0.00015123824, 0.00012054991, 0.00010536649]\n",
    "\n",
    "print(np.mean(l1), np.mean(l2))\n",
    "print(np.mean(l1b), np.mean(l2b))"
   ]
  },
  {
   "cell_type": "code",
   "execution_count": 157,
   "metadata": {},
   "outputs": [
    {
     "name": "stdout",
     "output_type": "stream",
     "text": [
      "0\n",
      "1\n"
     ]
    }
   ],
   "source": [
    "for i in range(2):\n",
    "    print(i)"
   ]
  },
  {
   "cell_type": "code",
   "execution_count": 165,
   "metadata": {},
   "outputs": [
    {
     "data": {
      "text/plain": [
       "[<matplotlib.lines.Line2D at 0x7fa581e91a90>]"
      ]
     },
     "execution_count": 165,
     "metadata": {},
     "output_type": "execute_result"
    },
    {
     "data": {
      "image/png": "[encoded data removed]",
      "text/plain": [
       "<Figure size 432x288 with 1 Axes>"
      ]
     },
     "metadata": {
      "needs_background": "light"
     },
     "output_type": "display_data"
    }
   ],
   "source": [
    "ckms = 2.99792e5\n",
    "sigma_to_fwhm = 2.3548\n",
    "lightspeed = 299792.458\n",
    "#; Read in polynomial order and coefficients fitting instrumental resolution\n",
    "bluecoeffs = [1, 2.417496, 0.00012411189]\n",
    "redcoeffs = [1, 4.3120284, 9.65096874e-05]\n",
    "logLamblue = alfvar.data.lam\n",
    "\n",
    "wavecut = 6450\n",
    "wavered = logLamblue[logLamblue>wavecut]\n",
    "waveblue = logLamblue[logLamblue<=wavecut]\n",
    "blueresl = np.zeros_like(waveblue)\n",
    "redresl = np.zeros_like(wavered)\n",
    "\n",
    "\n",
    "for j in range(len(l1b)):\n",
    "    redresl = np.zeros_like(waveblue)\n",
    "    redresl += float(l1b[j]) + float(l2b[j])*waveblue\n",
    "    redresl /= sigma_to_fwhm\n",
    "    redresl *= ckms/waveblue\n",
    "    plt.plot(waveblue, redresl, 'b--', alpha=0.4)\n",
    "    \n",
    "    \n",
    "for j in range(len(l1)):\n",
    "    redresl = np.zeros_like(wavered)\n",
    "    redresl += float(l1[j]) + float(l2[j])*wavered\n",
    "    redresl /= sigma_to_fwhm\n",
    "    redresl *= ckms/wavered\n",
    "    plt.plot(wavered, redresl, 'r--', alpha=0.4)\n",
    "\n",
    "#; Convert resolution from FWHM in Angstroms to Equivalent Width in km/s\n",
    "blueresl /= sigma_to_fwhm\n",
    "blueresl *= ckms/waveblue\n",
    "fspec = astro_ascii.read(\"/Users/menggu/work/massive/alfinput/ldss3_Mar16_n2513_Re4_wave1.dat\")\n",
    "#fspec = astro_ascii.read(\"/Users/menggu/work/massive/alfinput/ldss3_Mar16_n2513_Re2_wave2.dat\")\n",
    "\n",
    "plt.plot(fspec['col1'], fspec['col5'])\n",
    "plt.plot(5200, ckms/1900./sigma_to_fwhm, 'bs')\n",
    "plt.plot(8500, ckms/1810./sigma_to_fwhm, 'rs')\n",
    "plt.plot(fspec['col1'], fspec['col5'])\n",
    "\n",
    "blueresl = np.zeros_like(waveblue)\n",
    "blueresl += float(bluecoeffs[1]) + float(bluecoeffs[2])*waveblue\n",
    "blueresl /= sigma_to_fwhm\n",
    "blueresl *= ckms/waveblue\n",
    "plt.plot(waveblue, blueresl, color='b', lw=2.5)\n",
    "    \n",
    "redresl = np.zeros_like(wavered)\n",
    "redresl += float(redcoeffs[1]) + float(redcoeffs[2])*wavered\n",
    "redresl /= sigma_to_fwhm\n",
    "redresl *= ckms/wavered\n",
    "plt.plot(wavered, redresl, color='r', lw=2.5)"
   ]
  },
  {
   "cell_type": "code",
   "execution_count": 16,
   "metadata": {},
   "outputs": [
    {
     "name": "stdout",
     "output_type": "stream",
     "text": [
      "{'velz': 7292.3794, 'sigma': 242.4669, 'logage': 1.1092, 'zh': 0.0694, 'feh': -0.0403, 'ah': 0.1767, 'nhe': 0.0, 'ch': 0.188, 'nh': -0.0035, 'nah': 0.1954, 'mgh': 0.1598, 'sih': 0.1067, 'kh': -0.1238, 'cah': 0.0494, 'tih': 0.0365, 'vh': -0.089, 'crh': -0.0902, 'mnh': 0.0857, 'coh': 0.1572, 'nih': 0.0748, 'cuh': 0.0115, 'srh': 0.121, 'bah': -0.3393, 'euh': -0.1079, 'teff': -0.1729, 'imf1': 3.1716, 'imf2': 2.0659, 'logfy': -2.8107, 'sigma2': 241.8138, 'velz2': -67.3644, 'logm7g': -5.5327, 'hotteff': 28.4387, 'loghot': -8.0, 'fy_logage': 0.1242, 'logtrans': -1.3088, 'logemline_h': -6.0, 'logemline_oiii': -6.0, 'logemline_sii': -6.0, 'logemline_ni': -6.0, 'logemline_nii': -6.0, 'logemline_oii': -6.0, 'jitter': 1.4436, 'imf3': 0.2426, 'logsky': -3.6268, 'imf4': -1.1896, 'h3': -0.017, 'h4': -0.0003, 'chi2': 1e+33}\n",
      "[11.8978885   8.06011438  2.60222083]\n"
     ]
    }
   ],
   "source": [
    "m2l = getm2l(mspec[0], mspec[1], pos=pos, mw = 0)\n",
    "print(pos.__dict__)\n",
    "print(m2l)"
   ]
  },
  {
   "cell_type": "code",
   "execution_count": 15,
   "metadata": {},
   "outputs": [
    {
     "data": {
      "text/plain": [
       "[<matplotlib.lines.Line2D at 0x7fe22811c2d0>]"
      ]
     },
     "execution_count": 15,
     "metadata": {},
     "output_type": "execute_result"
    },
    {
     "data": {
      "image/png": "[encoded data removed]",
      "text/plain": [
       "<Figure size 432x288 with 1 Axes>"
      ]
     },
     "metadata": {
      "needs_background": "light"
     },
     "output_type": "display_data"
    }
   ],
   "source": [
    "plt.plot(mspec[0], mspec[1])\n",
    "plt.plot(fspec['col1'], fspec['col2'])"
   ]
  },
  {
   "cell_type": "code",
   "execution_count": 12,
   "metadata": {},
   "outputs": [
    {
     "data": {
      "text/plain": [
       "(5838.6, 6862)"
      ]
     },
     "execution_count": 12,
     "metadata": {},
     "output_type": "execute_result"
    },
    {
     "data": {
      "image/png": "[encoded data removed]",
      "text/plain": [
       "<Figure size 432x288 with 1 Axes>"
      ]
     },
     "metadata": {
      "needs_background": "light"
     },
     "output_type": "display_data"
    }
   ],
   "source": [
    "#plt.plot(alfvar.data.lam, alfvar.data.flx)\n",
    "#plt.plot(alfvar.sspgrid.lam, t)\n",
    "#plt.plot(alfvar.data.lam, mflx)\n",
    "#plt.plot(alfvar.data.lam, alfvar.data.flx)\n",
    "plt.plot(data.lam, data.flx/zmspec)\n",
    "plt.xlim(5838.6,  6862)"
   ]
  },
  {
   "cell_type": "code",
   "execution_count": 10,
   "metadata": {},
   "outputs": [],
   "source": [
    "data = alfvar.data"
   ]
  },
  {
   "cell_type": "code",
   "execution_count": null,
   "metadata": {},
   "outputs": [],
   "source": [
    "mflx, tcoeff = contnormspec(alfvar.data.lam, alfvar.data.flx/zmspec, alfvar.data.err/zmspec,\n",
    "                            tl1, tl2, coeff = True)"
   ]
  },
  {
   "cell_type": "code",
   "execution_count": null,
   "metadata": {},
   "outputs": [],
   "source": [
    "mflx, tcoeff = contnormspec(alfvar.data.lam, alfvar.data.flx/zmspec, alfvar.data.err/zmspec, tl1, tl2, coeff = True)"
   ]
  },
  {
   "cell_type": "code",
   "execution_count": 10,
   "metadata": {},
   "outputs": [
    {
     "name": "stdout",
     "output_type": "stream",
     "text": [
      "0 4000.0 4700.0\n",
      "4000.0\n",
      "1 4700.0 5699.999999999999\n",
      "4700.0\n",
      "2 5699.999999999999 6700.0\n",
      "5699.999999999999\n",
      "3 8000.0 8920.0\n",
      "8000.0\n"
     ]
    }
   ],
   "source": [
    "for i in range(alfvar.nlint):\n",
    "    print(i, alfvar.l1[i], alfvar.l2[i])\n",
    "    print(max(alfvar.l1[i], alfvar.data.lam[0]))\n",
    "    print(min(alfvar.l1[i], alfvar.data.lam[0]))"
   ]
  },
  {
   "cell_type": "code",
   "execution_count": 6,
   "metadata": {},
   "outputs": [
    {
     "data": {
      "text/plain": [
       "[<matplotlib.lines.Line2D at 0x7fe8bb2755d0>]"
      ]
     },
     "execution_count": 6,
     "metadata": {},
     "output_type": "execute_result"
    },
    {
     "data": {
      "image/png": "[encoded data removed]",
      "text/plain": [
       "<Figure size 432x288 with 1 Axes>"
      ]
     },
     "metadata": {
      "needs_background": "light"
     },
     "output_type": "display_data"
    }
   ],
   "source": [
    "plt.plot(f1['col1'], f1['col2'] - f2['col2'])"
   ]
  },
  {
   "cell_type": "code",
   "execution_count": 4,
   "metadata": {},
   "outputs": [
    {
     "data": {
      "text/plain": [
       "[<matplotlib.lines.Line2D at 0x7fe8b874a810>]"
      ]
     },
     "execution_count": 4,
     "metadata": {},
     "output_type": "execute_result"
    },
    {
     "data": {
      "image/png": "[encoded data removed]",
      "text/plain": [
       "<Figure size 432x288 with 1 Axes>"
      ]
     },
     "metadata": {
      "needs_background": "light"
     },
     "output_type": "display_data"
    }
   ],
   "source": [
    "f1 = astro_ascii.read(\"{0}models/test1.dat\".format(ALF_HOME))\n",
    "f2 = astro_ascii.read(\"{0}models/test2.dat\".format(ALF_HOME))\n",
    "plt.plot(f1['col1'], f1['col2'])\n",
    "plt.plot(f2['col1'], f2['col2'])\n",
    "#plt.xlim(5e3, 6e3)"
   ]
  },
  {
   "cell_type": "code",
   "execution_count": 10,
   "metadata": {},
   "outputs": [
    {
     "name": "stdout",
     "output_type": "stream",
     "text": [
      "421 ms ± 12.9 ms per loop (mean ± std. dev. of 7 runs, 1 loop each)\n"
     ]
    }
   ],
   "source": [
    "%timeit velbroad(f1['col1'], f1['col2'], 250)"
   ]
  },
  {
   "cell_type": "code",
   "execution_count": 10,
   "metadata": {},
   "outputs": [
    {
     "name": "stdout",
     "output_type": "stream",
     "text": [
      "181 ms ± 3.03 ms per loop (mean ± std. dev. of 7 runs, 1 loop each)\n"
     ]
    }
   ],
   "source": [
    "%timeit velbroad2(f1['col1'], f1['col2'], 250)"
   ]
  },
  {
   "cell_type": "code",
   "execution_count": 4,
   "metadata": {},
   "outputs": [],
   "source": [
    "s = velbroad(f1['col1'], f1['col2'], 250)\n",
    "s2 = velbroad2(f1['col1'], f1['col2'], 250)"
   ]
  },
  {
   "cell_type": "code",
   "execution_count": 6,
   "metadata": {},
   "outputs": [
    {
     "data": {
      "text/plain": [
       "0.0"
      ]
     },
     "execution_count": 6,
     "metadata": {},
     "output_type": "execute_result"
    }
   ],
   "source": [
    "(s-s2).std()"
   ]
  },
  {
   "cell_type": "code",
   "execution_count": 7,
   "metadata": {},
   "outputs": [
    {
     "data": {
      "text/plain": [
       "(28, 50)"
      ]
     },
     "execution_count": 7,
     "metadata": {},
     "output_type": "execute_result"
    },
    {
     "data": {
      "image/png": "[encoded data removed]",
      "text/plain": [
       "<Figure size 432x288 with 1 Axes>"
      ]
     },
     "metadata": {
      "needs_background": "light"
     },
     "output_type": "display_data"
    }
   ],
   "source": [
    "plt.plot(f1['col1'], f1['col2'])\n",
    "plt.plot(f1['col1'], s)\n",
    "plt.plot(f1['col1'], s2)\n",
    "plt.xlim(4.5e3, 5.5e3)\n",
    "plt.ylim(28, 50)"
   ]
  },
  {
   "cell_type": "code",
   "execution_count": null,
   "metadata": {},
   "outputs": [],
   "source": []
  },
  {
   "cell_type": "code",
   "execution_count": null,
   "metadata": {},
   "outputs": [],
   "source": []
  },
  {
   "cell_type": "markdown",
   "metadata": {},
   "source": [
    "# speed"
   ]
  },
  {
   "cell_type": "code",
   "execution_count": 165,
   "metadata": {},
   "outputs": [],
   "source": [
    "    f20_attrname = np.array(['solar','nap','nam','cap','cam','fep',\n",
    "                          'fem','cp','cm','np','nm','ap','tip','tim',\n",
    "                          'mgp','mgm','sip','sim','teffp','teffm','crp',\n",
    "                          'mnp','bap','bam','nip','cop','eup','srp','kp','vp',\n",
    "                          'cup','nap6','nap9'])\n",
    "    f20_icollist = np.array([1,  2,  3,  4,  5,  6,  7,  8,  9, 11, 12, 13, 14, 15, 16,\n",
    "       17, 18, 19, 20, 21, 22, 23, 24, 25, 26, 27, 28, 29, 30, 31, 32, 33 ,34])\n",
    "    attrs = dict(zip(f20_icollist, f20_attrname))"
   ]
  },
  {
   "cell_type": "code",
   "execution_count": 170,
   "metadata": {},
   "outputs": [],
   "source": [
    "def get_sspgrid2(alfvar):\n",
    "    f20_read_dict_attr = np.array(['lam','solar','nap','nam','cap','cam','fep',\n",
    "                          'fem','cp','cm','d1','np','nm','ap','tip','tim',\n",
    "                          'mgp','mgm','sip','sim','teffp','teffm','crp',\n",
    "                          'mnp','bap','bam','nip','cop','eup','srp','kp','vp',\n",
    "                          'cup','nap6','nap9'])\n",
    "    \n",
    "    f20_attrname = np.array(['solar','nap','nam','cap','cam','fep',\n",
    "                          'fem','cp','cm','np','nm','ap','tip','tim',\n",
    "                          'mgp','mgm','sip','sim','teffp','teffm','crp',\n",
    "                          'mnp','bap','bam','nip','cop','eup','srp','kp','vp',\n",
    "                          'cup','nap6','nap9'])\n",
    "    f20_icollist = np.array([1,  2,  3,  4,  5,  6,  7,  8,  9, 11, 12, 13, 14, 15, 16,\n",
    "       17, 18, 19, 20, 21, 22, 23, 24, 25, 26, 27, 28, 29, 30, 31, 32, 33 ,34])\n",
    "    \n",
    "    charz  = np.array(['m1.5','m1.0','m0.5','p0.0','p0.2'])\n",
    "    charz2  = np.array(['-1.50','-1.00','-0.50','+0.00','+0.25'])\n",
    "    charm  = np.array(['0.08','0.10','0.15','0.20','0.25','0.30','0.35','0.40'])\n",
    "    chart  = np.array(['t01.0','t03.0','t05.0','t07.0','t09.0','t11.0','t13.5'])\n",
    "    chart2 = np.array(['t01','t03','t05','t09','t13'])\n",
    "    nstart, nl = alfvar.nstart, alfvar.nl\n",
    "\n",
    "    for k in range(alfvar.nzmet):\n",
    "        for j in range(alfvar.nage_rfcn):\n",
    "            try:\n",
    "                f20 = np.loadtxt(\"{0}infiles/atlas_ssp_{1}_Z{2}.abund.\"\\\n",
    "                \"{3}.s100\".format(ALF_HOME, chart2[j], charz[k], alfvar.atlas_imf))\n",
    "            except:\n",
    "                print('SETUP ERROR: ATLAS models not found')\n",
    "                print(\"{0}infiles/atlas_ssp_{1}_Z{2}.abund.\"\\\n",
    "                \"{3}.s100\".format(ALF_HOME, chart2[j], charz[k], alfvar.atlas_imf))\n",
    "\n",
    "            alfvar.sspgrid.__setattr__('lam', f20[-nl:, 0])\n",
    "            for iattr, icol in zip(f20_attrname, f20_icollist):\n",
    "                getattr(alfvar.sspgrid, iattr)[:,j,k] = f20[-nl:, icol]\n",
    "    return alfvar"
   ]
  },
  {
   "cell_type": "code",
   "execution_count": 178,
   "metadata": {},
   "outputs": [],
   "source": [
    "from itertools import starmap\n",
    "def get_sspgrid3(alfvar):\n",
    "    f20_read_dict_attr = np.array(['lam','solar','nap','nam','cap','cam','fep',\n",
    "                          'fem','cp','cm','d1','np','nm','ap','tip','tim',\n",
    "                          'mgp','mgm','sip','sim','teffp','teffm','crp',\n",
    "                          'mnp','bap','bam','nip','cop','eup','srp','kp','vp',\n",
    "                          'cup','nap6','nap9'])\n",
    "    \n",
    "    f20_attrname = np.array(['solar','nap','nam','cap','cam','fep',\n",
    "                          'fem','cp','cm','np','nm','ap','tip','tim',\n",
    "                          'mgp','mgm','sip','sim','teffp','teffm','crp',\n",
    "                          'mnp','bap','bam','nip','cop','eup','srp','kp','vp',\n",
    "                          'cup','nap6','nap9'])\n",
    "    f20_icollist = np.array([1,  2,  3,  4,  5,  6,  7,  8,  9, 11, 12, 13, 14, 15, 16,\n",
    "       17, 18, 19, 20, 21, 22, 23, 24, 25, 26, 27, 28, 29, 30, 31, 32, 33 ,34])\n",
    "    \n",
    "    charz  = np.array(['m1.5','m1.0','m0.5','p0.0','p0.2'])\n",
    "    charz2  = np.array(['-1.50','-1.00','-0.50','+0.00','+0.25'])\n",
    "    charm  = np.array(['0.08','0.10','0.15','0.20','0.25','0.30','0.35','0.40'])\n",
    "    chart  = np.array(['t01.0','t03.0','t05.0','t07.0','t09.0','t11.0','t13.5'])\n",
    "    chart2 = np.array(['t01','t03','t05','t09','t13'])\n",
    "    nstart, nl = alfvar.nstart, alfvar.nl\n",
    "\n",
    "    for k in range(alfvar.nzmet):\n",
    "        for j in range(alfvar.nage_rfcn):\n",
    "            filename = \"{0}infiles/atlas_ssp_{1}_Z{2}.abund.\"\\\n",
    "            \"{3}.s100\".format(ALF_HOME, chart2[j], charz[k], alfvar.atlas_imf)\n",
    "            f20 = np.loadtxt(filename)\n",
    "\n",
    "            alfvar.sspgrid.__setattr__('lam', f20[-nl:, 0])\n",
    "            for iattr, icol in zip(f20_attrname, f20_icollist):\n",
    "                getattr(alfvar.sspgrid, iattr)[:,j,k] = f20[-nl:, icol]\n",
    "    return alfvar"
   ]
  },
  {
   "cell_type": "code",
   "execution_count": 173,
   "metadata": {},
   "outputs": [],
   "source": [
    "    f20_attrname = np.array(['solar','nap','nam','cap','cam','fep',\n",
    "                          'fem','cp','cm','np','nm','ap','tip','tim',\n",
    "                          'mgp','mgm','sip','sim','teffp','teffm','crp',\n",
    "                          'mnp','bap','bam','nip','cop','eup','srp','kp','vp',\n",
    "                          'cup','nap6','nap9'])\n",
    "    f20_icollist = np.array([1,  2,  3,  4,  5,  6,  7,  8,  9, 11, 12, 13, 14, 15, 16,\n",
    "       17, 18, 19, 20, 21, 22, 23, 24, 25, 26, 27, 28, 29, 30, 31, 32, 33 ,34])\n",
    "    j, k = 0, 0"
   ]
  }
 ],
 "metadata": {
  "kernelspec": {
   "display_name": "Python 3",
   "language": "python",
   "name": "python3"
  },
  "language_info": {
   "codemirror_mode": {
    "name": "ipython",
    "version": 3
   },
   "file_extension": ".py",
   "mimetype": "text/x-python",
   "name": "python",
   "nbconvert_exporter": "python",
   "pygments_lexer": "ipython3",
   "version": "3.7.4"
  }
 },
 "nbformat": 4,
 "nbformat_minor": 4
}
